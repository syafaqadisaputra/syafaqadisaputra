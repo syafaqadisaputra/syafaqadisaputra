{
  "nbformat": 4,
  "nbformat_minor": 0,
  "metadata": {
    "colab": {
      "provenance": [],
      "include_colab_link": true
    },
    "kernelspec": {
      "name": "python3",
      "display_name": "Python 3"
    },
    "language_info": {
      "name": "python"
    }
  },
  "cells": [
    {
      "cell_type": "markdown",
      "metadata": {
        "id": "view-in-github",
        "colab_type": "text"
      },
      "source": [
        "<a href=\"https://colab.research.google.com/github/syafaqadisaputra/syafaqadisaputra/blob/main/TugasOverriding.ipynb\" target=\"_parent\"><img src=\"https://colab.research.google.com/assets/colab-badge.svg\" alt=\"Open In Colab\"/></a>"
      ]
    },
    {
      "cell_type": "markdown",
      "source": [
        "Lengkapi kode program berikut ini, sehingga bisa menghasilkan output seperti berikut!\n",
        "```\n",
        "Pohon Kelapa tumbuh dengan tinggi 800\n",
        " --> dan daun menyirip\n",
        "Mawar tumbuh dengan tinggi 50\n",
        " --> dan berwarna merah\n",
        " ```\n",
        "\n"
      ],
      "metadata": {
        "id": "RljxHcHbJLfE"
      }
    },
    {
      "cell_type": "code",
      "execution_count": 4,
      "metadata": {
        "id": "lWZ-ESv159Iq"
      },
      "outputs": [],
      "source": [
        "class Tanaman:\n",
        "  def __init__(self, nama, tinggi):\n",
        "    # lengkapi kontruktor ini\n",
        "    self.nama = nama\n",
        "    self.tinggi = tinggi\n",
        "  def tumbuh(self):\n",
        "    print(self.nama,'tumbuh dengan tinggi', self.tinggi)"
      ]
    },
    {
      "cell_type": "code",
      "source": [
        "class Pohon(Tanaman):\n",
        "  def __init__(self, nama, tinggi, jenis_daun):\n",
        "    # lengkapi kontruktor ini\n",
        "    super().__init__(nama, tinggi)\n",
        "    self.jenis_daun = jenis_daun\n",
        "  def tumbuh(self):\n",
        "    # panggil fungsi tumbuh dari induk\n",
        "    super().tumbuh()\n",
        "    print(' --> dan daun', self.jenis_daun)"
      ],
      "metadata": {
        "id": "xkteR9AOGKJH"
      },
      "execution_count": 5,
      "outputs": []
    },
    {
      "cell_type": "code",
      "source": [
        "class Bunga(Tanaman):\n",
        "  def __init__(self, nama, tinggi, warna):\n",
        "    # lengkapi kontruktor ini\n",
        "    super().__init__(nama, tinggi)\n",
        "    self.warna = warna\n",
        "  def tumbuh(self):\n",
        "    # panggil fungsi tumbuh dari induk\n",
        "    super().tumbuh()\n",
        "    print(' --> dan berwarna', self.warna)\n",
        ""
      ],
      "metadata": {
        "id": "ZJBeyb94GMEo"
      },
      "execution_count": 6,
      "outputs": []
    },
    {
      "cell_type": "code",
      "source": [
        "# Membuat objek-objek tanaman\n",
        "tanaman1 = Pohon(\"Pohon Kelapa\", 800, \"menjari\")\n",
        "tanaman2 = Bunga(\"Mawar\", 50, \"putih\")\n",
        "\n",
        "# Memanggil metode tumbuh yang telah di-override\n",
        "tanaman1.tumbuh()\n",
        "tanaman2.tumbuh()"
      ],
      "metadata": {
        "id": "wl3IHLSkGOIT",
        "outputId": "b883ef04-a928-4d2e-b480-1aa7304a9980",
        "colab": {
          "base_uri": "https://localhost:8080/"
        }
      },
      "execution_count": 7,
      "outputs": [
        {
          "output_type": "stream",
          "name": "stdout",
          "text": [
            "Pohon Kelapa tumbuh dengan tinggi 800\n",
            " --> dan daun menjari\n",
            "Mawar tumbuh dengan tinggi 50\n",
            " --> dan berwarna putih\n"
          ]
        }
      ]
    }
  ]
}