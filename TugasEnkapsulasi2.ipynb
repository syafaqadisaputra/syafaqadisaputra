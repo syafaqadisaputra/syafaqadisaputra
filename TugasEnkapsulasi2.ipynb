{
  "nbformat": 4,
  "nbformat_minor": 0,
  "metadata": {
    "colab": {
      "provenance": [],
      "include_colab_link": true
    },
    "kernelspec": {
      "name": "python3",
      "display_name": "Python 3"
    },
    "language_info": {
      "name": "python"
    }
  },
  "cells": [
    {
      "cell_type": "markdown",
      "metadata": {
        "id": "view-in-github",
        "colab_type": "text"
      },
      "source": [
        "<a href=\"https://colab.research.google.com/github/syafaqadisaputra/syafaqadisaputra/blob/main/TugasEnkapsulasi2.ipynb\" target=\"_parent\"><img src=\"https://colab.research.google.com/assets/colab-badge.svg\" alt=\"Open In Colab\"/></a>"
      ]
    },
    {
      "cell_type": "markdown",
      "source": [
        "Buatlah kelas RekeningBank dengan atribut berikut:\n",
        "\n",
        "*   nama_pemilik (private)\n",
        "*   saldo (private)\n",
        "\n",
        "Berikan metode berikut:\n",
        "\n",
        "*   __init__: Menginisialisasi saldo dan nama_pemilik.\n",
        "*   set_saldo: Mengubah nilai saldo.\n",
        "*   get_saldo: Mengembalikan nilai saldo.\n",
        "*   set_nama_pemilik: Mengubah nama pemilik.\n",
        "*   get_nama_pemilik: Mengembalikan nama pemilik.\n",
        "\n",
        "\n",
        "\n",
        "\n",
        "\n",
        "\n",
        "\n",
        "\n"
      ],
      "metadata": {
        "id": "PktiI90eS6Ee"
      }
    },
    {
      "cell_type": "code",
      "source": [
        "# Desain class\n",
        "class RekeningBank:\n",
        "  def __init__(self, namapemilik, saldo):\n",
        "    self.__namapemilik = namapemilik\n",
        "    self.__saldo = saldo\n",
        "\n",
        "  def get_namapemilik(self):\n",
        "    return self.__namapemilik\n",
        "\n",
        "  def set_namapemilik(self, namapemilik):\n",
        "    self.__namapemilik = namapemilik\n",
        "\n",
        "  def get_saldo(self):\n",
        "    return self.__saldo\n",
        "\n",
        "  def set_saldo(self, saldo):\n",
        "    if saldo > 2000000000:\n",
        "      self.__saldo = 2000000000\n",
        "\n",
        "    elif saldo < 600000000:\n",
        "      self.__saldo = 600000000\n",
        "\n",
        "    else:\n",
        "      self.__saldo = saldo"
      ],
      "metadata": {
        "id": "Pyj-mkyciVfk"
      },
      "execution_count": 5,
      "outputs": []
    },
    {
      "cell_type": "code",
      "source": [
        "#Program utama untuk mendemonstrasikan class RekeningBank\n",
        "nasabah1 = RekeningBank(\"Syafaq\", 5400000000)\n",
        "\n",
        "print(\"Nama =\",nasabah1.get_namapemilik())\n",
        "print(\"Saldo =\",nasabah1.get_saldo())\n",
        "\n",
        "nasabah1.set_namapemilik('AdiSaputra')\n",
        "\n",
        "#yang menunjukkan penggunaan semua fungsi yang ada"
      ],
      "metadata": {
        "id": "aOwy6rfdSga2",
        "colab": {
          "base_uri": "https://localhost:8080/"
        },
        "outputId": "eff2e185-0972-48a7-f8a2-fce2093b4452"
      },
      "execution_count": 4,
      "outputs": [
        {
          "output_type": "stream",
          "name": "stdout",
          "text": [
            "Nama = Syafaq\n",
            "Saldo = 5400000000\n"
          ]
        }
      ]
    }
  ]
}