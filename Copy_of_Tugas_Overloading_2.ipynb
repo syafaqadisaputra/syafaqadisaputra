{
  "nbformat": 4,
  "nbformat_minor": 0,
  "metadata": {
    "colab": {
      "provenance": [],
      "include_colab_link": true
    },
    "kernelspec": {
      "name": "python3",
      "display_name": "Python 3"
    },
    "language_info": {
      "name": "python"
    }
  },
  "cells": [
    {
      "cell_type": "markdown",
      "metadata": {
        "id": "view-in-github",
        "colab_type": "text"
      },
      "source": [
        "<a href=\"https://colab.research.google.com/github/syafaqadisaputra/syafaqadisaputra/blob/main/Copy_of_Tugas_Overloading_2.ipynb\" target=\"_parent\"><img src=\"https://colab.research.google.com/assets/colab-badge.svg\" alt=\"Open In Colab\"/></a>"
      ]
    },
    {
      "cell_type": "code",
      "execution_count": 1,
      "metadata": {
        "id": "5zCytCeM1uD4"
      },
      "outputs": [],
      "source": [
        "#class Nama\n",
        "class nama :\n",
        "  def nama_lengkap(self, *args):\n",
        "        jumlah = \"\"\n",
        "        for angka in args:\n",
        "            jumlah += angka\n",
        "        print(jumlah)\n"
      ]
    },
    {
      "cell_type": "code",
      "source": [
        "#Buat main program\n",
        "nama_lengkap = nama()\n",
        "#Panggil fungsi untuk membuat nama lengkap 4 nama teman kalian\n",
        "nama_lengkap.nama_lengkap(\"Akumah \", \"Masih \", \"Pemula\")\n",
        "nama_lengkap.nama_lengkap(\"Ajarin \", \"Dong \", \"Puh Sepuh\")\n",
        "nama_lengkap.nama_lengkap(\"Rexza \", \"Ananda \", \"Lubis\")\n",
        "nama_lengkap.nama_lengkap(\"Syafaq \", \"Adi \", \"Saputra\")"
      ],
      "metadata": {
        "id": "liQBcJWZ12MN",
        "colab": {
          "base_uri": "https://localhost:8080/"
        },
        "outputId": "d825d4df-f940-4707-aae0-f7c77bed9160"
      },
      "execution_count": 3,
      "outputs": [
        {
          "output_type": "stream",
          "name": "stdout",
          "text": [
            "Akumah Masih Pemula\n",
            "Ajarin Dong Puh Sepuh\n",
            "Rexza Ananda Lubis\n",
            "Syafaq Adi Saputra\n"
          ]
        }
      ]
    },
    {
      "cell_type": "code",
      "source": [
        "Tulisakan kesimpulan dari materi Overloading menurut pemahaman anda!\n",
        "#Overload memiliki nama method yang sama namun berbeda parameter (perintah yang dijalankan bisa jadi sama maupun tidak antara satu dengan yang lainnya)"
      ],
      "metadata": {
        "id": "xwFmppIG3JGE",
        "colab": {
          "base_uri": "https://localhost:8080/",
          "height": 140
        },
        "outputId": "1757e62a-3b34-4ae9-a4a3-2ea6da38eca8"
      },
      "execution_count": 4,
      "outputs": [
        {
          "output_type": "error",
          "ename": "SyntaxError",
          "evalue": "ignored",
          "traceback": [
            "\u001b[0;36m  File \u001b[0;32m\"<ipython-input-4-4d8e52f5c4f3>\"\u001b[0;36m, line \u001b[0;32m1\u001b[0m\n\u001b[0;31m    Tulisakan kesimpulan dari materi Overloading menurut pemahaman anda!\u001b[0m\n\u001b[0m              ^\u001b[0m\n\u001b[0;31mSyntaxError\u001b[0m\u001b[0;31m:\u001b[0m invalid syntax\n"
          ]
        }
      ]
    }
  ]
}